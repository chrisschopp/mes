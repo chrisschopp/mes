{
 "metadata": {
  "language_info": {
   "codemirror_mode": {
    "name": "ipython",
    "version": 3
   },
   "file_extension": ".py",
   "mimetype": "text/x-python",
   "name": "python",
   "nbconvert_exporter": "python",
   "pygments_lexer": "ipython3",
   "version": "3.7.7"
  },
  "orig_nbformat": 2,
  "kernelspec": {
   "name": "python3",
   "display_name": "Python 3.7.7 64-bit ('factory_physics_env': conda)"
  },
  "interpreter": {
   "hash": "0efb2d04942fa6a3b7447747954f8a6a56839e425915573a0e2d8ca8404f0f53"
  }
 },
 "nbformat": 4,
 "nbformat_minor": 2,
 "cells": [
  {
   "cell_type": "markdown",
   "source": [
    "## Start simulation"
   ],
   "metadata": {}
  },
  {
   "cell_type": "code",
   "execution_count": null,
   "source": [
    "import numpy as np\r\n",
    "import pandas as pd\r\n",
    "from factory_simulation import *\r\n",
    "\r\n",
    "np.random.seed(42)\r\n",
    "interarrival_time = np.random.exponential(scale=2) # The scale parameter (lambda) for an exponential distribution is equal to both the mean and std dev.\r\n",
    "\r\n",
    "env = simpy.Environment()\r\n",
    "env.process(run_factory(env, lots_ready_at_time_zero=3, interarrival_time=interarrival_time))\r\n",
    "env.run(until=10)"
   ],
   "outputs": [],
   "metadata": {}
  },
  {
   "cell_type": "markdown",
   "source": [
    "### The `create_mes_data()` function below produces a `namedtuple`, whose fields hold different outputs of the simulation."
   ],
   "metadata": {}
  },
  {
   "cell_type": "code",
   "execution_count": null,
   "source": [
    "mes = create_mes_data(simulation_start_time = (2021, 1, 1))"
   ],
   "outputs": [],
   "metadata": {}
  },
  {
   "cell_type": "markdown",
   "source": [
    "Fields:\r\n",
    "- mes.hist = Historical MES data. The lot has already been processed at that step so contains no NA values.\r\n",
    "- mes.current = Shows the current location of lots in the factory. Contains NA values for process_start_time, process_end_time, or both."
   ],
   "metadata": {}
  },
  {
   "cell_type": "code",
   "execution_count": null,
   "source": [
    "mes.hist"
   ],
   "outputs": [],
   "metadata": {}
  },
  {
   "cell_type": "code",
   "execution_count": null,
   "source": [
    "mes.current"
   ],
   "outputs": [],
   "metadata": {}
  }
 ]
}
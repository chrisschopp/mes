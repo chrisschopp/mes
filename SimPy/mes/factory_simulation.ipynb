{
 "metadata": {
  "language_info": {
   "codemirror_mode": {
    "name": "ipython",
    "version": 3
   },
   "file_extension": ".py",
   "mimetype": "text/x-python",
   "name": "python",
   "nbconvert_exporter": "python",
   "pygments_lexer": "ipython3",
   "version": "3.7.7-final"
  },
  "orig_nbformat": 2,
  "kernelspec": {
   "name": "python3",
   "display_name": "Python 3"
  }
 },
 "nbformat": 4,
 "nbformat_minor": 2,
 "cells": [
  {
   "cell_type": "code",
   "execution_count": null,
   "metadata": {},
   "outputs": [],
   "source": [
    "import random\n",
    "import numpy as np\n",
    "import pandas as pd\n",
    "from factory_simulation import *\n",
    "import datetime as dt\n",
    "import pyodbc\n",
    "\n",
    "np.random.seed(42)\n",
    "interarrival_time = np.random.exponential(scale=2) # The scale parameter (lambda) for an exponential distribution is equal to both the mean and std dev.\n",
    "\n",
    "env = simpy.Environment()\n",
    "env.process(run_factory(env, num_machines_ws1=1, lots_ready_at_time_zero=3, interarrival_time=interarrival_time))\n",
    "env.run(until=10)"
   ]
  },
  {
   "cell_type": "code",
   "execution_count": null,
   "metadata": {},
   "outputs": [],
   "source": [
    "mes_data = get_lot_status_df()"
   ]
  },
  {
   "cell_type": "code",
   "execution_count": null,
   "metadata": {},
   "outputs": [],
   "source": [
    "simulation_start_time = dt.datetime(2021,1,1)\n",
    "# Convert simulation minutes to datetimes starting at simulation_start_time.\n",
    "mes_data['step_arrival_time'] = simulation_start_time + pd.TimedeltaIndex(mes_data['step_arrival_time'], unit='m')\n",
    "mes_data['process_start_time'] = simulation_start_time + pd.TimedeltaIndex(mes_data['process_start_time'], unit='m')\n",
    "mes_data['process_end_time'] = simulation_start_time + pd.TimedeltaIndex(mes_data['process_end_time'], unit='m')"
   ]
  },
  {
   "cell_type": "code",
   "execution_count": null,
   "metadata": {},
   "outputs": [],
   "source": [
    "mes_hist = mes_data[~mes_data['process_end_time'].isna()]\n",
    "mes_current = mes_data[mes_data['process_end_time'].isna()]"
   ]
  },
  {
   "cell_type": "code",
   "execution_count": null,
   "metadata": {},
   "outputs": [],
   "source": [
    "mes_hist"
   ]
  },
  {
   "cell_type": "code",
   "execution_count": null,
   "metadata": {},
   "outputs": [],
   "source": [
    "mes_current"
   ]
  },
  {
   "cell_type": "code",
   "execution_count": null,
   "metadata": {},
   "outputs": [],
   "source": [
    "cnxn = pyodbc.connect(\n",
    "    'DRIVER={MySQL ODBC 8.0 Driver};'\n",
    "    'SERVER=sql9.freesqldatabase.com;'\n",
    "    'DATABASE=sql9381580;'\n",
    "    'UID=sql9381580;'\n",
    "    'PWD=seLGLWDqaZ;'\n",
    "    'charset=utf8mb4;'\n",
    "    'OPTION=3;'\n",
    "    )"
   ]
  },
  {
   "cell_type": "code",
   "execution_count": null,
   "metadata": {},
   "outputs": [],
   "source": [
    "import struct\n",
    "print(struct.calcsize(\"P\") * 8)"
   ]
  },
  {
   "cell_type": "code",
   "execution_count": null,
   "metadata": {},
   "outputs": [],
   "source": []
  }
 ]
}